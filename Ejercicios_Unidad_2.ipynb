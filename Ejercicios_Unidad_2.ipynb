{
  "nbformat": 4,
  "nbformat_minor": 0,
  "metadata": {
    "colab": {
      "provenance": [],
      "authorship_tag": "ABX9TyNHQ8BgWxXPrKboVi4sSE3h",
      "include_colab_link": true
    },
    "kernelspec": {
      "name": "python3",
      "display_name": "Python 3"
    },
    "language_info": {
      "name": "python"
    }
  },
  "cells": [
    {
      "cell_type": "markdown",
      "metadata": {
        "id": "view-in-github",
        "colab_type": "text"
      },
      "source": [
        "<a href=\"https://colab.research.google.com/github/flbaynac/programacion-ISTEA2024/blob/ejercicios-resueltos/Ejercicios_Unidad_2.ipynb\" target=\"_parent\"><img src=\"https://colab.research.google.com/assets/colab-badge.svg\" alt=\"Open In Colab\"/></a>"
      ]
    },
    {
      "cell_type": "markdown",
      "source": [
        "# Ejercicios de práctica Unidad 2 Programación (Python)\n"
      ],
      "metadata": {
        "id": "d67ZJ9AUTIQw"
      }
    },
    {
      "cell_type": "markdown",
      "source": [
        "1. Calcula el área de un rectángulo con base 5 y altura 3. Imprime el resultado.\n",
        "```python\n",
        "altura_rectangulo = 3\n",
        "base_rectangulo = 5\n",
        "area = altura_rectangulo * base_rectangulo\n",
        "print(area)\n",
        "```\n",
        "> 15"
      ],
      "metadata": {
        "id": "8RCx1wMpTaxS"
      }
    },
    {
      "cell_type": "code",
      "source": [
        "# @title Prueba el código:\n",
        "altura_rectangulo = 3 # @param {type:\"integer\"}\n",
        "base_rectangulo = 5 # @param {type:\"integer\"}\n",
        "area = altura_rectangulo * base_rectangulo\n",
        "print(area)"
      ],
      "metadata": {
        "colab": {
          "base_uri": "https://localhost:8080/"
        },
        "cellView": "form",
        "id": "A7iMtBRzTqay",
        "outputId": "fa6d9a36-0ce5-44c8-b485-a23caa93ad74"
      },
      "execution_count": null,
      "outputs": [
        {
          "output_type": "stream",
          "name": "stdout",
          "text": [
            "15\n"
          ]
        }
      ]
    },
    {
      "cell_type": "markdown",
      "source": [
        "2. Convierte la temperatura de Celsius a Fahrenheit. Pide al usuario ingresar la temperatura en Celsius y luego imprime la temperatura equivalente en Fahrenheit.\n",
        "```python\n",
        "temperatura_celsius = 20 #por ejemplo\n",
        "temperatura_fahrenheit = (temperatura_celsius * 9 / 5) + 32\n",
        "print(temperatura_fahrenheit)\n",
        "```\n",
        "> 68.0"
      ],
      "metadata": {
        "id": "xybEtLgbZW0o"
      }
    },
    {
      "cell_type": "code",
      "source": [
        "# @title Prueba el código:\n",
        "temperatura_celsius = 20 # @param {type:\"integer\"}\n",
        "temperatura_fahrenheit = (temperatura_celsius * 9 / 5) + 32\n",
        "print(temperatura_fahrenheit)"
      ],
      "metadata": {
        "colab": {
          "base_uri": "https://localhost:8080/"
        },
        "cellView": "form",
        "id": "KWlrhxorZjSB",
        "outputId": "20043d83-03bc-4dea-ecf5-7d9f1b5ba842"
      },
      "execution_count": null,
      "outputs": [
        {
          "output_type": "stream",
          "name": "stdout",
          "text": [
            "68.0\n"
          ]
        }
      ]
    },
    {
      "cell_type": "markdown",
      "source": [
        "3. Concatena tu nombre y tu edad como strings y guárdalos en una variable. Luego imprime el tipo de dato de esa variable.\n",
        "```python\n",
        "nombre = \"Facundo\"\n",
        "edad = \"23\"\n",
        "nombre_y_edad = nombre + edad\n",
        "print(type(nombre_y_edad))\n",
        "```\n",
        "> <class 'str'>|"
      ],
      "metadata": {
        "id": "CxafxYPwbZ3e"
      }
    },
    {
      "cell_type": "code",
      "source": [
        "# @title Prueba el código:\n",
        "nombre = \"Facundo\" # @param {type:\"string\"}\n",
        "edad = \"23\" # @param {type:\"string\"}\n",
        "nombre_y_edad = nombre + edad\n",
        "print(type(nombre_y_edad))"
      ],
      "metadata": {
        "colab": {
          "base_uri": "https://localhost:8080/"
        },
        "cellView": "form",
        "id": "3N01vXjHbwh7",
        "outputId": "1198cdc3-dbd4-4545-ca93-f46c209ddb42"
      },
      "execution_count": null,
      "outputs": [
        {
          "output_type": "stream",
          "name": "stdout",
          "text": [
            "<class 'str'>\n"
          ]
        }
      ]
    },
    {
      "cell_type": "markdown",
      "source": [
        "4. Calcula el área de un círculo con radio 4. Imprime el resultado.\n",
        "```python\n",
        "import math\n",
        "radio_circulo = 4\n",
        "area_circulo = math.pi * radio_circulo ** 2\n",
        "print(area_circulo)\n",
        "```\n",
        "> 50.26548245743669"
      ],
      "metadata": {
        "id": "UaWECPpDdgbV"
      }
    },
    {
      "cell_type": "code",
      "source": [
        "# @title Prueba el código:\n",
        "import math\n",
        "\n",
        "radio_circulo = 4 # @param {type:\"integer\"}\n",
        "area_circulo = math.pi * radio_circulo ** 2\n",
        "print(area_circulo)"
      ],
      "metadata": {
        "colab": {
          "base_uri": "https://localhost:8080/"
        },
        "cellView": "form",
        "id": "Vu6CN-QFdnJq",
        "outputId": "d9c629b5-415a-4782-a1d7-f21c9bcd0210"
      },
      "execution_count": null,
      "outputs": [
        {
          "output_type": "stream",
          "name": "stdout",
          "text": [
            "50.26548245743669\n"
          ]
        }
      ]
    },
    {
      "cell_type": "markdown",
      "source": [
        "5. Pide al usuario que ingrese dos números y muestra la suma, resta, multiplicación y división de esos números.\n",
        "```python\n",
        "print(\"Ingrese un número:\")\n",
        "numero1 = input()\n",
        "numero1 = int(numero1) #pasamos del tipo string a int para poder operar\n",
        "print(\"Ingrese otro número:\")\n",
        "numero2 = input()\n",
        "numero2 = int(numero2) #pasamos del tipo string a int para poder operar\n",
        "suma = int(numero1) + int(numero2)\n",
        "print(\"suma: \" + str(suma)) #pasamos a string para poder concatenar\n",
        "resta = numero1 - numero2\n",
        "print(\"resta: \" + str(resta))\n",
        "multiplicacion = numero1 * numero2\n",
        "print(\"multiplicación: \" + str(multiplicacion))\n",
        "division = numero1 / numero2\n",
        "print(\"división: \" + str(division)) #se necesitaria exceptuar el caso de division por cero\n",
        "```\n",
        "\n",
        "> Ingrese un número:\n",
        "\n",
        "> 12\n",
        "\n",
        "> Ingrese otro número:\n",
        "\n",
        "> 2\n",
        "\n",
        "> suma: 14\n",
        "\n",
        "> resta: 10\n",
        "\n",
        "> multiplicación: 24\n",
        "\n",
        "> división: 6.0"
      ],
      "metadata": {
        "id": "SKAK_6YTffkV"
      }
    },
    {
      "cell_type": "code",
      "source": [
        "# @title Prueba el código:\n",
        "numero1 = \"12\" # @param {type:\"string\"}\n",
        "numero1 = int(numero1) #pasamos del tipo string a int para poder operar\n",
        "numero2 = \"2\" # @param {type:\"string\"}\n",
        "numero2 = int(numero2) #pasamos del tipo string a int para poder operar\n",
        "suma = int(numero1) + int(numero2)\n",
        "print(\"suma: \" + str(suma)) #pasamos a string para poder concatenar\n",
        "resta = numero1 - numero2\n",
        "print(\"resta: \" + str(resta))\n",
        "multiplicacion = numero1 * numero2\n",
        "print(\"multiplicación: \" + str(multiplicacion))\n",
        "division = numero1 / numero2\n",
        "print(\"división: \" + str(division)) #se necesitaria exceptuar el caso de division por cero"
      ],
      "metadata": {
        "id": "HN7v_YPXflmX",
        "cellView": "form"
      },
      "execution_count": null,
      "outputs": []
    },
    {
      "cell_type": "markdown",
      "source": [
        "6. Almacena el resultado de una operación aritmética compleja en una variable y luego imprime tanto el resultado como el tipo de dato de esa variable.\n",
        "```python\n",
        "# Tiene formato de código\n",
        "```\n",
        ">"
      ],
      "metadata": {
        "id": "3JdvNAFCT08H"
      }
    },
    {
      "cell_type": "code",
      "source": [
        "# @title Prueba el código:\n"
      ],
      "metadata": {
        "id": "wJd_eXJZT4Ao"
      },
      "execution_count": null,
      "outputs": []
    },
    {
      "cell_type": "code",
      "source": [
        "# @markdown 7. Crea una variable booleana que represente si un alumno ha aprobado o no un examen y luego imprime su estado.\n",
        "\n",
        "# @markdown 8. Calcula el perímetro de un triángulo equilátero con lados de longitud 6. Imprime el resultado.\n",
        "\n",
        "# @markdown 9. Pide al usuario que ingrese su nombre, edad y ciudad de residencia y luego imprime cada uno de esos datos con su respectivo tipo de dato.\n",
        "\n",
        "# @markdown 10. Realiza una operación matemática que involucre paréntesis, multiplicación, suma y resta. Guarda el resultado en una variable y luego imprímela junto con su tipo de dato."
      ],
      "metadata": {
        "id": "X7N49c60NbII"
      },
      "execution_count": null,
      "outputs": []
    }
  ]
}