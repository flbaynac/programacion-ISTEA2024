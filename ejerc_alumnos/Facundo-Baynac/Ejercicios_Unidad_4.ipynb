{
  "nbformat": 4,
  "nbformat_minor": 0,
  "metadata": {
    "colab": {
      "provenance": [],
      "include_colab_link": true
    },
    "kernelspec": {
      "name": "python3",
      "display_name": "Python 3"
    },
    "language_info": {
      "name": "python"
    }
  },
  "cells": [
    {
      "cell_type": "markdown",
      "metadata": {
        "id": "view-in-github",
        "colab_type": "text"
      },
      "source": [
        "<a href=\"https://colab.research.google.com/github/flbaynac/programacion-ISTEA2024/blob/ejercicios-resueltos/Ejercicios_Unidad_4.ipynb\" target=\"_parent\"><img src=\"https://colab.research.google.com/assets/colab-badge.svg\" alt=\"Open In Colab\"/></a>"
      ]
    },
    {
      "cell_type": "code",
      "execution_count": null,
      "metadata": {
        "cellView": "form",
        "id": "FWydduoqRslx"
      },
      "outputs": [],
      "source": [
        "# @title\n",
        "# Entrar con la cuenta de ISTEA"
      ]
    },
    {
      "cell_type": "markdown",
      "source": [
        "# Ejercicios de práctica Unidad 4 Programación (Python)"
      ],
      "metadata": {
        "id": "KweSCSQsRxYJ"
      }
    },
    {
      "cell_type": "markdown",
      "source": [
        "1. Crear una variable con valor 20 va a ser como referencia el minimo.\n",
        "Otra con valor de 500, va a ser como referencia el maximo.\n",
        "Luego pregunta al usuario por un valor, almacenarlo en otra variable, forzar a que ponga un numero, sino preguntar repetidamente.\n",
        "Ese numero transformarlo en integer\n",
        "\n",
        "  b. Ahora imprimir en pantalla.\n",
        "Si el numero que puso el usuario es menor que el valor minimo definido mostrar el texto VALOR BAJO\n",
        "Si el numero que puso el usuario es mayor que el valor maximo definido mostrar el texto VALOR ALTO\n",
        "Si el numero que puso el usuario esta entre el valor minimo y el valor maximo mostrar el texto VALOR MEDIO\n",
        "\n",
        "```python\n",
        "# Esto tiene formato de código\n",
        "```\n",
        "\n",
        ">"
      ],
      "metadata": {
        "id": "3uimIkvIR4hY"
      }
    },
    {
      "cell_type": "code",
      "source": [
        "# @title Prueba el código:"
      ],
      "metadata": {
        "cellView": "form",
        "id": "DADzdgSMR454"
      },
      "execution_count": null,
      "outputs": []
    },
    {
      "cell_type": "markdown",
      "source": [
        "2. Escriba un programa que pida un año y que escriba si es bisiesto o no.\n",
        "Se recuerda que los años bisiestos son múltiplos de 4, pero los múltiplos de 100 no lo son, aunque los múltiplos de 400 sí.\n",
        "\n",
        "```python\n",
        "# Esto tiene formato de código\n",
        "```\n",
        "\n",
        ">"
      ],
      "metadata": {
        "id": "Mm62iFLHR5Ig"
      }
    },
    {
      "cell_type": "code",
      "source": [
        "# @title Prueba el código:"
      ],
      "metadata": {
        "cellView": "form",
        "id": "vyxQx6HeR5bZ"
      },
      "execution_count": null,
      "outputs": []
    },
    {
      "cell_type": "markdown",
      "source": [
        "3. Pedir al usuario que ingrese un número de inicio del bucle\n",
        "Pedir al usuario que ingrese un número de fin del bucle\n",
        "Validar que el número de inicio sea menor al número de fin, si no es así volver a pedir los dos números, hasta que ésto sea correcto\n",
        "Luego de que el usuario ingrese los dos números, mostrar en pantalla todos los números que hay entre el número de inicio y el número de fin\n",
        "De la siguiente manera:\n",
        "\n",
        "```\n",
        "Este es el bucle número 1\n",
        "Este es el bucle número 2\n",
        "Este es el bucle número 3\n",
        "---\n",
        "Fin del programa.\n",
        "```\n",
        "\n",
        "```python\n",
        "# Esto tiene formato de código\n",
        "```\n",
        "\n",
        ">"
      ],
      "metadata": {
        "id": "WRuKSAheR5ng"
      }
    },
    {
      "cell_type": "code",
      "source": [
        "# @title Prueba el código:"
      ],
      "metadata": {
        "cellView": "form",
        "id": "xDwjL1MnR55g"
      },
      "execution_count": null,
      "outputs": []
    },
    {
      "cell_type": "markdown",
      "source": [
        "4. Vamos a realizar un programa que nos va a decir la nota promedio de un alumno en todo el cuatrimestre.\n",
        "Dentro del cuatrimestre son 4 examenes y luego un examen final.\n",
        "La aprobación del cuatrimestre es con nota 6 o mayor de promedio.\n",
        "Y si el alumno tiene aprobada la cursada (es decir, obtuvo seis o más de 6 de promedio en sus 4 examenes, rinde el examen final)\n",
        "Si el alumno tiene aprobada la cursada y el examen final, entonces el alumno aprobó la materia.\n",
        "\n",
        "  Entonces el programa debe preguntar por la nota de cada examen.\n",
        "En función de las respuestas, primero debe avisar el promedio de las 4 notas de los examenes.\n",
        "En caso de que el promedio sea mayor o igual a 6, debe avisar que el alumno tiene aprobada la cursada.\n",
        "En caso de que el promedio sea menor a 6, debe avisar que el alumno no tiene aprobada la cursada.\n",
        "Luego preguntar por nota del final (en caso de que haya aprobado la cursada), si es mayor o igual a 6, debe avisar que el alumno aprobó la materia.\n",
        "En caso de que sea menor a 6, debe avisar que el alumno no aprobó el final de la materia, y puede rendir recuperatorio.\n",
        "\n",
        "```python\n",
        "# Esto tiene formato de código\n",
        "```\n",
        "\n",
        ">"
      ],
      "metadata": {
        "id": "ge4Vun35R6FY"
      }
    },
    {
      "cell_type": "code",
      "source": [
        "# @title Prueba el código:"
      ],
      "metadata": {
        "cellView": "form",
        "id": "ncAxPyCwR6af"
      },
      "execution_count": null,
      "outputs": []
    },
    {
      "cell_type": "markdown",
      "source": [
        "5. Escriba un programa que pida los coeficientes de una ecuación de primer grado (a x + b = 0) y escriba la solución.\n",
        "\n",
        "* Se recuerda que una ecuación de primer grado puede no tener solución, tener una solución única, o que todos los números sean solución. Se recuerda que la fórmula de las soluciones es x = -b / a\n",
        "\n",
        "* Estos son algunos ejemplos de posibles respuestas (el orden de los ejemplos no tiene por qué corresponder con el orden de las condiciones):\n",
        "\n",
        "> ECUACIÓN A X + B = 0\n",
        "Escriba el valor del coeficiente a: 0\n",
        "Escriba el valor del coeficiente b: 3\n",
        "La ecuación no tiene solución.\n",
        "\n",
        "> ECUACIÓN A X + B = 0\n",
        "Escriba el valor del coeficiente a: 4.2\n",
        "Escriba el valor del coeficiente b: 21\n",
        "La ecuación tiene una solución: -5.0\n",
        "\n",
        "> ECUACIÓN A X + B = 0\n",
        "Escriba el valor del coeficiente a: 0\n",
        "Escriba el valor del coeficiente b: 0\n",
        "Todos los números son solución.\n",
        "\n",
        "```python\n",
        "# Esto tiene formato de código\n",
        "```\n",
        "\n",
        ">"
      ],
      "metadata": {
        "id": "H7WEBIZQR6so"
      }
    },
    {
      "cell_type": "code",
      "source": [
        "# @title Prueba el código:"
      ],
      "metadata": {
        "cellView": "form",
        "id": "PgKP6Zs_R6_Q"
      },
      "execution_count": null,
      "outputs": []
    },
    {
      "cell_type": "markdown",
      "source": [
        "6. Escriba un programa que pida los coeficientes de una ecuación de segundo grado (a x² + b x + c = 0) y escriba la solución.\n",
        "\n",
        "* Se recuerda que una ecuación de segundo grado puede no tener solución, tener una solución única, tener dos soluciones o que todos los números sean solución. Se recuerda que la fórmula de las soluciones cuando hay dos soluciones es x = (-b ± √(b2-4ac) ) / (2a)\n",
        "\n",
        "* Estos son algunos ejemplos de posibles respuestas (el orden de los ejemplos no tiene por qué corresponder con el orden de las condiciones).\n",
        "\n",
        "```\n",
        "a\tb\tc\tSolución\n",
        "1\t-2\t2\tSin solución real\n",
        "2\t-7\t3\tDos soluciones: 0.5 y 3.0\n",
        "1\t2\t1\tUna solución: -1.0\n",
        "0\t0\t5\tSin solución\n",
        "0\t0\t0\tTodos los números son solución\n",
        "0\t3\t2\tUna solución: -0.666...\n",
        "```\n",
        "\n",
        "```python\n",
        "# Esto tiene formato de código\n",
        "```\n",
        "\n",
        ">"
      ],
      "metadata": {
        "id": "kFe1Xz3ySugz"
      }
    },
    {
      "cell_type": "code",
      "source": [
        "# @title Prueba el código:"
      ],
      "metadata": {
        "cellView": "form",
        "id": "9PSDQukrS6b7"
      },
      "execution_count": null,
      "outputs": []
    },
    {
      "cell_type": "markdown",
      "source": [
        "7. Escriba un programa que pregunte primero si se quiere calcular el área de un triángulo o la de un círculo. Si se contesta que se quiere calcular el área de un triángulo (escribiendo T o t), el programa tiene que pedir entonces la base y la altura y escribir el área. Si se contesta que se quiere calcular el área de un círculo (escribiendo C o c), el programa tiene que pedir entonces el radio y escribir el área.\n",
        "\n",
        "* Se recuerda que el área de un triángulo es base por altura dividido por 2 y que el área de un círculo es Pi (aproximadamente 3,141592) por el radio al cuadrado.\n",
        "\n",
        "> Nota: Utilice como valor de pi el valor 3.141592.\n",
        "\n",
        "```python\n",
        "# Esto tiene formato de código\n",
        "```\n",
        "\n",
        ">"
      ],
      "metadata": {
        "id": "IJ5VtWY2S6xS"
      }
    },
    {
      "cell_type": "code",
      "source": [
        "# @title Prueba el código:"
      ],
      "metadata": {
        "cellView": "form",
        "id": "83wdSo_5TFjt"
      },
      "execution_count": null,
      "outputs": []
    },
    {
      "cell_type": "markdown",
      "source": [
        "8. Escriba un programa que pida tres números y diga si el tercero está más cerca del primero o del segundo.\n",
        "\n",
        "```python\n",
        "# Esto tiene formato de código\n",
        "```\n",
        "\n",
        ">"
      ],
      "metadata": {
        "id": "eX2ciOfMTFxc"
      }
    },
    {
      "cell_type": "code",
      "source": [
        "# @title Prueba el código:"
      ],
      "metadata": {
        "cellView": "form",
        "id": "YU1uPSvaTLor"
      },
      "execution_count": null,
      "outputs": []
    }
  ]
}