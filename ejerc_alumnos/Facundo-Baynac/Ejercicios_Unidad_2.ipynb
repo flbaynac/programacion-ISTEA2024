{
  "nbformat": 4,
  "nbformat_minor": 0,
  "metadata": {
    "colab": {
      "provenance": [],
      "authorship_tag": "ABX9TyPqIuFNz5JCK83zXGQBwuZW",
      "include_colab_link": true
    },
    "kernelspec": {
      "name": "python3",
      "display_name": "Python 3"
    },
    "language_info": {
      "name": "python"
    }
  },
  "cells": [
    {
      "cell_type": "markdown",
      "metadata": {
        "id": "view-in-github",
        "colab_type": "text"
      },
      "source": [
        "<a href=\"https://colab.research.google.com/github/flbaynac/programacion-ISTEA2024/blob/ejercicios-resueltos/Ejercicios_Unidad_2.ipynb\" target=\"_parent\"><img src=\"https://colab.research.google.com/assets/colab-badge.svg\" alt=\"Open In Colab\"/></a>"
      ]
    },
    {
      "cell_type": "code",
      "source": [
        "# @title\n",
        "# Entrar con la cuenta de ISTEA"
      ],
      "metadata": {
        "cellView": "form",
        "id": "ng4uIxHZBS7z"
      },
      "execution_count": null,
      "outputs": []
    },
    {
      "cell_type": "markdown",
      "source": [
        "# Ejercicios de práctica Unidad 2 Programación (Python)\n"
      ],
      "metadata": {
        "id": "d67ZJ9AUTIQw"
      }
    },
    {
      "cell_type": "markdown",
      "source": [
        "1. Calcula el área de un rectángulo con base 5 y altura 3. Imprime el resultado.\n",
        "```python\n",
        "altura_rectangulo = 3\n",
        "base_rectangulo = 5\n",
        "area = altura_rectangulo * base_rectangulo\n",
        "print(area)\n",
        "```\n",
        "> 15"
      ],
      "metadata": {
        "id": "8RCx1wMpTaxS"
      }
    },
    {
      "cell_type": "code",
      "source": [
        "# @title Prueba el código:\n",
        "altura_rectangulo = 3 # @param {type:\"integer\"}\n",
        "base_rectangulo = 5 # @param {type:\"integer\"}\n",
        "area = altura_rectangulo * base_rectangulo\n",
        "print(area)"
      ],
      "metadata": {
        "cellView": "form",
        "id": "A7iMtBRzTqay"
      },
      "execution_count": null,
      "outputs": []
    },
    {
      "cell_type": "markdown",
      "source": [
        "2. Convierte la temperatura de Celsius a Fahrenheit. Pide al usuario ingresar la temperatura en Celsius y luego imprime la temperatura equivalente en Fahrenheit.\n",
        "```python\n",
        "print(\"Ingrese la temperatura en Celsius:\")\n",
        "temperatura_celsius = input()\n",
        "temperatura_celsius = int(temperatura_celsius)\n",
        "temperatura_fahrenheit = (temperatura_celsius * 9 / 5) + 32\n",
        "print(temperatura_fahrenheit)\n",
        "```\n",
        "> 68.0"
      ],
      "metadata": {
        "id": "xybEtLgbZW0o"
      }
    },
    {
      "cell_type": "code",
      "source": [
        "# @title Prueba el código:\n",
        "temperatura_celsius = 20 # @param {type:\"integer\"}\n",
        "temperatura_fahrenheit = (temperatura_celsius * 9 / 5) + 32\n",
        "print(temperatura_fahrenheit)"
      ],
      "metadata": {
        "cellView": "form",
        "id": "KWlrhxorZjSB"
      },
      "execution_count": null,
      "outputs": []
    },
    {
      "cell_type": "markdown",
      "source": [
        "3. Concatena tu nombre y tu edad como strings y guárdalos en una variable. Luego imprime el tipo de dato de esa variable.\n",
        "```python\n",
        "nombre = \"Facundo\"\n",
        "edad = \"23\"\n",
        "nombre_y_edad = nombre + edad\n",
        "print(type(nombre_y_edad))\n",
        "```\n",
        "> <class 'str'>|"
      ],
      "metadata": {
        "id": "CxafxYPwbZ3e"
      }
    },
    {
      "cell_type": "code",
      "source": [
        "# @title Prueba el código:\n",
        "nombre = \"Facundo\" # @param {type:\"string\"}\n",
        "edad = \"23\" # @param {type:\"string\"}\n",
        "nombre_y_edad = nombre + edad\n",
        "print(type(nombre_y_edad))"
      ],
      "metadata": {
        "cellView": "form",
        "id": "3N01vXjHbwh7"
      },
      "execution_count": null,
      "outputs": []
    },
    {
      "cell_type": "markdown",
      "source": [
        "4. Calcula el área de un círculo con radio 4. Imprime el resultado.\n",
        "```python\n",
        "import math\n",
        "radio_circulo = 4\n",
        "area_circulo = math.pi * radio_circulo ** 2\n",
        "print(area_circulo)\n",
        "```\n",
        "> 50.26548245743669"
      ],
      "metadata": {
        "id": "UaWECPpDdgbV"
      }
    },
    {
      "cell_type": "code",
      "source": [
        "# @title Prueba el código:\n",
        "import math\n",
        "\n",
        "radio_circulo = 4 # @param {type:\"integer\"}\n",
        "area_circulo = math.pi * radio_circulo ** 2\n",
        "print(area_circulo)"
      ],
      "metadata": {
        "cellView": "form",
        "id": "Vu6CN-QFdnJq"
      },
      "execution_count": null,
      "outputs": []
    },
    {
      "cell_type": "markdown",
      "source": [
        "5. Pide al usuario que ingrese dos números y muestra la suma, resta, multiplicación y división de esos números.\n",
        "```python\n",
        "print(\"Ingrese un número:\")\n",
        "numero1 = input()\n",
        "numero1 = int(numero1) #pasamos del tipo string a int para poder operar\n",
        "print(\"Ingrese otro número:\")\n",
        "numero2 = input()\n",
        "numero2 = int(numero2) #pasamos del tipo string a int para poder operar\n",
        "suma = int(numero1) + int(numero2)\n",
        "print(\"suma: \" + str(suma)) #pasamos a string para poder concatenar\n",
        "resta = numero1 - numero2\n",
        "print(\"resta: \" + str(resta))\n",
        "multiplicacion = numero1 * numero2\n",
        "print(\"multiplicación: \" + str(multiplicacion))\n",
        "division = numero1 / numero2\n",
        "print(\"división: \" + str(division)) #se necesitaria exceptuar el caso de division por cero\n",
        "```\n",
        "\n",
        "> Ingrese un número:\n",
        "\n",
        "> 12\n",
        "\n",
        "> Ingrese otro número:\n",
        "\n",
        "> 2\n",
        "\n",
        "> suma: 14\n",
        "\n",
        "> resta: 10\n",
        "\n",
        "> multiplicación: 24\n",
        "\n",
        "> división: 6.0"
      ],
      "metadata": {
        "id": "SKAK_6YTffkV"
      }
    },
    {
      "cell_type": "code",
      "source": [
        "# @title Prueba el código:\n",
        "numero1 = \"12\" # @param {type:\"string\"}\n",
        "numero1 = int(numero1) #pasamos del tipo string a int para poder operar\n",
        "numero2 = \"2\" # @param {type:\"string\"}\n",
        "numero2 = int(numero2) #pasamos del tipo string a int para poder operar\n",
        "suma = int(numero1) + int(numero2)\n",
        "print(\"suma: \" + str(suma)) #pasamos a string para poder concatenar\n",
        "resta = numero1 - numero2\n",
        "print(\"resta: \" + str(resta))\n",
        "multiplicacion = numero1 * numero2\n",
        "print(\"multiplicación: \" + str(multiplicacion))\n",
        "division = numero1 / numero2\n",
        "print(\"división: \" + str(division)) #se necesitaria exceptuar el caso de division por cero"
      ],
      "metadata": {
        "id": "HN7v_YPXflmX",
        "cellView": "form"
      },
      "execution_count": null,
      "outputs": []
    },
    {
      "cell_type": "markdown",
      "source": [
        "6. Almacena el resultado de una operación aritmética compleja en una variable y luego imprime tanto el resultado como el tipo de dato de esa variable.\n",
        "```python\n",
        "resultado_operacion = 2 * 4 / 3 + 4\n",
        "print(type(resultado_operacion))\n",
        "```\n",
        "> <class 'float'>"
      ],
      "metadata": {
        "id": "3JdvNAFCT08H"
      }
    },
    {
      "cell_type": "code",
      "source": [
        "# @title Prueba el código:\n",
        "\n",
        "resultado_operacion = 2 * 4 / 3 + 4\n",
        "print(type(resultado_operacion))"
      ],
      "metadata": {
        "id": "wJd_eXJZT4Ao",
        "cellView": "form"
      },
      "execution_count": null,
      "outputs": []
    },
    {
      "cell_type": "markdown",
      "source": [
        "7. Crea una variable booleana que represente si un alumno ha aprobado o no un examen y luego imprime su estado.\n",
        "```python\n",
        "aprobo = false\n",
        "print(aprobo)\n",
        "```\n",
        "> False"
      ],
      "metadata": {
        "id": "KE9s6YeTFe_T"
      }
    },
    {
      "cell_type": "code",
      "source": [
        "# @title Prueba el código:\n",
        "aprobo = False # @param {type:\"boolean\"}\n",
        "print(aprobo)"
      ],
      "metadata": {
        "cellView": "form",
        "id": "UrsBeUrUFfuD"
      },
      "execution_count": null,
      "outputs": []
    },
    {
      "cell_type": "markdown",
      "source": [
        "8. Calcula el perímetro de un triángulo equilátero con lados de longitud 6. Imprime el resultado.\n",
        "```python\n",
        "longitud_lado = 6\n",
        "perimetro_triangulo = 3 * longitud_lado\n",
        "print(\"El perímetro es: \" + srt(perimtro_triangulo))\n",
        "```\n",
        "> 18"
      ],
      "metadata": {
        "id": "EbQmEugiFwJk"
      }
    },
    {
      "cell_type": "code",
      "source": [
        "# @title Prueba el código:\n",
        "longitud_lado = 6 # @param {type:\"integer\"}\n",
        "perimetro_triangulo = 3 * longitud_lado\n",
        "print(\"El perímetro es: \" + str(perimetro_triangulo))"
      ],
      "metadata": {
        "cellView": "form",
        "id": "PHPM3uoJGBor"
      },
      "execution_count": null,
      "outputs": []
    },
    {
      "cell_type": "markdown",
      "source": [
        "9. Pide al usuario que ingrese su nombre, edad y ciudad de residencia y luego imprime cada uno de esos datos con su respectivo tipo de dato.\n",
        "```python\n",
        "print(\"Ingrese nombre: \")\n",
        "nombre = input()\n",
        "print(\"Ingrese edad: \")\n",
        "edad = int(input()) # Input siempre lo toma como string pero debería ser integer\n",
        "print(\"Ingrese ciudad de residencia: \")\n",
        "ciudad = input()\n",
        "print(\"Tipo de dato nombre: \" + str(type(nombre)) + \"\\nTipo de dato edad: \" + str(type(edad)) + \"\\nTipo de dato ciudad: \" + str(type(ciudad)))\n",
        "```\n",
        "\n",
        "> Ingrese nombre:\n",
        "\n",
        "> Ingrese edad:\n",
        "\n",
        "> Ingrese ciudad de residencia:\n",
        "\n",
        "> Tipo de dato nombre: <class 'str'>\n",
        "\n",
        "> Tipo de dato edad: <class 'int'>\n",
        "\n",
        "> Tipo de dato ciudad: <class 'str'>"
      ],
      "metadata": {
        "id": "bkDW5sLhF1qr"
      }
    },
    {
      "cell_type": "code",
      "source": [
        "# @title Prueba el código:\n",
        "nombre = \"Facundo\" # @param {type:\"string\"}\n",
        "edad = 26 # @param {type:\"integer\"}\n",
        "ciudad = \"Temperley\" # @param {type:\"string\"}\n",
        "print(\"Tipo de dato nombre: \" + str(type(nombre)) + \"\\nTipo de dato edad: \" + str(type(edad)) + \"\\nTipo de dato ciudad: \" + str(type(ciudad)))"
      ],
      "metadata": {
        "cellView": "form",
        "id": "4ZY8mNtqGCSb"
      },
      "execution_count": null,
      "outputs": []
    },
    {
      "cell_type": "markdown",
      "source": [
        "10. Realiza una operación matemática que involucre paréntesis, multiplicación, suma y resta. Guarda el resultado en una variable y luego imprímela junto con su tipo de dato.\n",
        "```python\n",
        "resultado = (14 * 34) / 12 * (2 - 3 + 6)\n",
        "print(\"El resultado es: \" + str(resultado) + \" y su tipo de dato es: \" + str(type(resultado)))\n",
        "```\n",
        "> El resultado es: 198.33333333333331 y su tipo de dato es: <class 'float'>"
      ],
      "metadata": {
        "id": "qsQ_pp7lF8Pj"
      }
    },
    {
      "cell_type": "code",
      "source": [
        "# @title Prueba el código:\n",
        "\n",
        "resultado = (14 * 34) / 12 * (2 - 3 + 6)\n",
        "print(\"El resultado es: \" + str(resultado) + \" y su tipo de dato es: \" + str(type(resultado)))"
      ],
      "metadata": {
        "cellView": "form",
        "id": "C0gy8mrVGC40"
      },
      "execution_count": null,
      "outputs": []
    }
  ]
}