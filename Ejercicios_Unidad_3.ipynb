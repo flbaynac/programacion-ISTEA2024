{
  "nbformat": 4,
  "nbformat_minor": 0,
  "metadata": {
    "colab": {
      "provenance": [],
      "authorship_tag": "ABX9TyOYICOFMaEinQjcWEAuYAeS",
      "include_colab_link": true
    },
    "kernelspec": {
      "name": "python3",
      "display_name": "Python 3"
    },
    "language_info": {
      "name": "python"
    }
  },
  "cells": [
    {
      "cell_type": "markdown",
      "metadata": {
        "id": "view-in-github",
        "colab_type": "text"
      },
      "source": [
        "<a href=\"https://colab.research.google.com/github/flbaynac/programacion-ISTEA2024/blob/ejercicios-resueltos/Ejercicios_Unidad_3.ipynb\" target=\"_parent\"><img src=\"https://colab.research.google.com/assets/colab-badge.svg\" alt=\"Open In Colab\"/></a>"
      ]
    },
    {
      "cell_type": "code",
      "source": [
        "# @title\n",
        "# Entrar con la cuenta de ISTEA"
      ],
      "metadata": {
        "cellView": "form",
        "id": "AxoyFopnOW_P"
      },
      "execution_count": null,
      "outputs": []
    },
    {
      "cell_type": "markdown",
      "source": [
        "# Ejercicios de práctica Unidad 3 Programación (Python)"
      ],
      "metadata": {
        "id": "JaLUuFSpOKXD"
      }
    },
    {
      "cell_type": "markdown",
      "source": [
        "1. Solicita al usuario que ingrese su nombre y su edad. Luego, imprime un mensaje que diga \"¡Hola, `[nombre]`! Tienes `[edad]` años\".:\n",
        "\n",
        "```python\n",
        "# Esto tiene formato de código\n",
        "```\n",
        "\n",
        ">"
      ],
      "metadata": {
        "id": "-TUfoMehOnTE"
      }
    },
    {
      "cell_type": "code",
      "execution_count": null,
      "metadata": {
        "cellView": "form",
        "id": "-QsAlIoyN5iV"
      },
      "outputs": [],
      "source": [
        "# @title Prueba el código:\n"
      ]
    },
    {
      "cell_type": "markdown",
      "source": [
        "2. Imprima en pantalla las siguientes figuras geometricas (utilizar concatenación y replicación de strings)\n",
        "\n",
        "```\n",
        "+***************+\n",
        "*               *\n",
        "*               *\n",
        "*               *\n",
        "+***************+\n",
        "\n",
        "+---+\n",
        "|   |\n",
        "|   |\n",
        "|   |\n",
        "+---+\n",
        "\n",
        "###################################\n",
        "###################################\n",
        "##                               ##\n",
        "##                               ##\n",
        "##                               ##\n",
        "###################################\n",
        "###################################\n",
        "```\n",
        "\n",
        "```python\n",
        "# Esto tiene formato de código\n",
        "```\n",
        "\n",
        ">"
      ],
      "metadata": {
        "id": "uHYzF4OVP2Ee"
      }
    },
    {
      "cell_type": "code",
      "source": [
        "# @title Prueba el código:\n"
      ],
      "metadata": {
        "cellView": "form",
        "id": "W0rrt4JbQQcG"
      },
      "execution_count": null,
      "outputs": []
    },
    {
      "cell_type": "markdown",
      "source": [
        "3. Solicita al usuario que ingrese dos números enteros. Luego, convierte estos números a float, realiza la división de ambos y muestra el resultado.\n",
        "\n",
        "```python\n",
        "# Esto tiene formato de código\n",
        "```\n",
        "\n",
        ">"
      ],
      "metadata": {
        "id": "kz7rU6huQQw1"
      }
    },
    {
      "cell_type": "code",
      "source": [
        "# @title Prueba el código:\n"
      ],
      "metadata": {
        "cellView": "form",
        "id": "qna16uLRQTNN"
      },
      "execution_count": null,
      "outputs": []
    },
    {
      "cell_type": "markdown",
      "source": [
        "4. Pide al usuario que ingrese una cadena que represente un número entero. Convierte esta cadena a un entero usando la función int() y luego suma 10. Imprime el resultado.\n",
        "\n",
        "\n",
        "```python\n",
        "# Esto tiene formato de código\n",
        "```\n",
        "\n",
        ">"
      ],
      "metadata": {
        "id": "exoo0i4nQTll"
      }
    },
    {
      "cell_type": "code",
      "source": [
        "# @title Prueba el código:\n"
      ],
      "metadata": {
        "cellView": "form",
        "id": "rotoSQFgQWXF"
      },
      "execution_count": null,
      "outputs": []
    },
    {
      "cell_type": "markdown",
      "source": [
        "5. Pregunta al usuario que ingrese un número. Si el número es mayor que 10, imprime \"El número es mayor que 10\". Si es igual a 10, imprime \"El número es igual a 10\". De lo contrario, imprime \"El número es menor que 10\".\n",
        "\n",
        "```python\n",
        "# Esto tiene formato de código\n",
        "```\n",
        "\n",
        ">"
      ],
      "metadata": {
        "id": "BA_pU9aXQWnF"
      }
    },
    {
      "cell_type": "code",
      "source": [
        "# @title Prueba el código:\n"
      ],
      "metadata": {
        "cellView": "form",
        "id": "QhHqsvUOQZlc"
      },
      "execution_count": null,
      "outputs": []
    },
    {
      "cell_type": "markdown",
      "source": [
        "b. Solicita al usuario que ingrese dos números y compara si son iguales. Si lo son, imprime \"Los números son iguales\". De lo contrario, imprime \"Los números son diferentes\".\n",
        "\n",
        "```python\n",
        "# Esto tiene formato de código\n",
        "```\n",
        "\n",
        ">"
      ],
      "metadata": {
        "id": "iH-zT2LZQZ1M"
      }
    },
    {
      "cell_type": "code",
      "source": [
        "# @title Prueba el código:\n"
      ],
      "metadata": {
        "cellView": "form",
        "id": "2M_yJIJvQcsN"
      },
      "execution_count": null,
      "outputs": []
    },
    {
      "cell_type": "markdown",
      "source": [
        "6. Pregunta al usuario que ingrese su edad. Si la edad es mayor o igual a 18, imprime \"Eres mayor de edad\". De lo contrario, imprime \"Eres menor de edad\".\n",
        "\n",
        "```python\n",
        "# Esto tiene formato de código\n",
        "```\n",
        "\n",
        ">"
      ],
      "metadata": {
        "id": "5Jak0oShQc7s"
      }
    },
    {
      "cell_type": "code",
      "source": [
        "# @title Prueba el código:\n"
      ],
      "metadata": {
        "cellView": "form",
        "id": "V3Gfv2WSQevh"
      },
      "execution_count": null,
      "outputs": []
    },
    {
      "cell_type": "markdown",
      "source": [
        "b. Pide al usuario que ingrese una temperatura en Celsius. Si la temperatura es mayor o igual a 100, imprime \"El agua está hirviendo\". Si es menor o igual a 0, imprime \"El agua está congelada\". De lo contrario, imprime \"El agua está en estado líquido\"."
      ],
      "metadata": {
        "id": "B5AHLmyEQe8v"
      }
    },
    {
      "cell_type": "code",
      "source": [
        "# @title Prueba el código:\n"
      ],
      "metadata": {
        "cellView": "form",
        "id": "YeP4_-whQg5e"
      },
      "execution_count": null,
      "outputs": []
    },
    {
      "cell_type": "markdown",
      "source": [
        "7. Pregunta al usuario que ingrese un número. Si es positivo, imprime \"El número es positivo\". Si es negativo, imprime \"El número es negativo\". Si es cero, imprime \"El número es cero\".\n",
        "\n",
        "```python\n",
        "# Esto tiene formato de código\n",
        "```\n",
        "\n",
        ">"
      ],
      "metadata": {
        "id": "Aoo8Zf8WQhJd"
      }
    },
    {
      "cell_type": "code",
      "source": [
        "# @title Prueba el código:\n"
      ],
      "metadata": {
        "cellView": "form",
        "id": "ZAYKDuOwQiww"
      },
      "execution_count": null,
      "outputs": []
    },
    {
      "cell_type": "markdown",
      "source": [
        "8. Solicita al usuario que ingrese un número del 1 al 7. Luego, imprime el día de la semana correspondiente (1 para Lunes, 2 para Martes, etc.). Si ingresa un número fuera de ese rango, imprime \"Número de día no válido\".\n",
        "\n",
        "```python\n",
        "# Esto tiene formato de código\n",
        "```\n",
        "\n",
        ">"
      ],
      "metadata": {
        "id": "amejSGywQi6u"
      }
    },
    {
      "cell_type": "code",
      "source": [
        "# @title Prueba el código:\n"
      ],
      "metadata": {
        "cellView": "form",
        "id": "E3s-TvCfQklW"
      },
      "execution_count": null,
      "outputs": []
    }
  ]
}